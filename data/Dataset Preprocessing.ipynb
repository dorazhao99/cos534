{
 "cells": [
  {
   "cell_type": "code",
   "execution_count": 73,
   "metadata": {},
   "outputs": [],
   "source": [
    "import pandas as pd\n",
    "import random, json"
   ]
  },
  {
   "cell_type": "code",
   "execution_count": 65,
   "metadata": {},
   "outputs": [],
   "source": [
    "# splits dataset into train-val-test\n",
    "def split_dataset(data):\n",
    "    random.seed(1234)\n",
    "    train, val, test = [], [], []\n",
    "    test_size = int(len(data) * 0.2)\n",
    "    test = random.sample(data, test_size)\n",
    "    \n",
    "    # split into train and val\n",
    "    train = [x for x in data if x not in test]\n",
    "    val_size = int(len(train) * 0.2)\n",
    "    val = random.sample(train, val_size)\n",
    "    train = [x for x in train if x not in val]\n",
    "    \n",
    "    print('Train Size: {0} Val Size: {1} Test Size: {2}'.format(len(train), len(val), len(test)))\n",
    "    return train, val, test"
   ]
  },
  {
   "cell_type": "markdown",
   "metadata": {},
   "source": [
    "### BFW"
   ]
  },
  {
   "cell_type": "code",
   "execution_count": 6,
   "metadata": {},
   "outputs": [
    {
     "data": {
      "text/html": [
       "<div>\n",
       "<style scoped>\n",
       "    .dataframe tbody tr th:only-of-type {\n",
       "        vertical-align: middle;\n",
       "    }\n",
       "\n",
       "    .dataframe tbody tr th {\n",
       "        vertical-align: top;\n",
       "    }\n",
       "\n",
       "    .dataframe thead th {\n",
       "        text-align: right;\n",
       "    }\n",
       "</style>\n",
       "<table border=\"1\" class=\"dataframe\">\n",
       "  <thead>\n",
       "    <tr style=\"text-align: right;\">\n",
       "      <th></th>\n",
       "      <th>fold</th>\n",
       "      <th>p1</th>\n",
       "      <th>p2</th>\n",
       "      <th>label</th>\n",
       "      <th>id1</th>\n",
       "      <th>id2</th>\n",
       "      <th>att1</th>\n",
       "      <th>att2</th>\n",
       "      <th>vgg16</th>\n",
       "      <th>resnet50</th>\n",
       "      <th>senet50</th>\n",
       "      <th>a1</th>\n",
       "      <th>a2</th>\n",
       "      <th>g1</th>\n",
       "      <th>g2</th>\n",
       "      <th>e1</th>\n",
       "      <th>e2</th>\n",
       "    </tr>\n",
       "  </thead>\n",
       "  <tbody>\n",
       "    <tr>\n",
       "      <th>0</th>\n",
       "      <td>1</td>\n",
       "      <td>asian_females/n000009/0010_01.jpg</td>\n",
       "      <td>asian_females/n000009/0043_01.jpg</td>\n",
       "      <td>1</td>\n",
       "      <td>0</td>\n",
       "      <td>0</td>\n",
       "      <td>asian_females</td>\n",
       "      <td>asian_females</td>\n",
       "      <td>0.820039</td>\n",
       "      <td>0.703258</td>\n",
       "      <td>0.679089</td>\n",
       "      <td>AF</td>\n",
       "      <td>AF</td>\n",
       "      <td>F</td>\n",
       "      <td>F</td>\n",
       "      <td>A</td>\n",
       "      <td>A</td>\n",
       "    </tr>\n",
       "    <tr>\n",
       "      <th>1</th>\n",
       "      <td>1</td>\n",
       "      <td>asian_females/n000009/0010_01.jpg</td>\n",
       "      <td>asian_females/n000009/0120_01.jpg</td>\n",
       "      <td>1</td>\n",
       "      <td>0</td>\n",
       "      <td>0</td>\n",
       "      <td>asian_females</td>\n",
       "      <td>asian_females</td>\n",
       "      <td>0.719199</td>\n",
       "      <td>0.523613</td>\n",
       "      <td>0.594268</td>\n",
       "      <td>AF</td>\n",
       "      <td>AF</td>\n",
       "      <td>F</td>\n",
       "      <td>F</td>\n",
       "      <td>A</td>\n",
       "      <td>A</td>\n",
       "    </tr>\n",
       "    <tr>\n",
       "      <th>2</th>\n",
       "      <td>1</td>\n",
       "      <td>asian_females/n000009/0010_01.jpg</td>\n",
       "      <td>asian_females/n000009/0122_02.jpg</td>\n",
       "      <td>1</td>\n",
       "      <td>0</td>\n",
       "      <td>0</td>\n",
       "      <td>asian_females</td>\n",
       "      <td>asian_females</td>\n",
       "      <td>0.732029</td>\n",
       "      <td>0.527567</td>\n",
       "      <td>0.643680</td>\n",
       "      <td>AF</td>\n",
       "      <td>AF</td>\n",
       "      <td>F</td>\n",
       "      <td>F</td>\n",
       "      <td>A</td>\n",
       "      <td>A</td>\n",
       "    </tr>\n",
       "    <tr>\n",
       "      <th>3</th>\n",
       "      <td>1</td>\n",
       "      <td>asian_females/n000009/0010_01.jpg</td>\n",
       "      <td>asian_females/n000009/0188_01.jpg</td>\n",
       "      <td>1</td>\n",
       "      <td>0</td>\n",
       "      <td>0</td>\n",
       "      <td>asian_females</td>\n",
       "      <td>asian_females</td>\n",
       "      <td>0.607093</td>\n",
       "      <td>0.348211</td>\n",
       "      <td>0.458883</td>\n",
       "      <td>AF</td>\n",
       "      <td>AF</td>\n",
       "      <td>F</td>\n",
       "      <td>F</td>\n",
       "      <td>A</td>\n",
       "      <td>A</td>\n",
       "    </tr>\n",
       "    <tr>\n",
       "      <th>4</th>\n",
       "      <td>1</td>\n",
       "      <td>asian_females/n000009/0010_01.jpg</td>\n",
       "      <td>asian_females/n000009/0205_01.jpg</td>\n",
       "      <td>1</td>\n",
       "      <td>0</td>\n",
       "      <td>0</td>\n",
       "      <td>asian_females</td>\n",
       "      <td>asian_females</td>\n",
       "      <td>0.629153</td>\n",
       "      <td>0.384273</td>\n",
       "      <td>0.494913</td>\n",
       "      <td>AF</td>\n",
       "      <td>AF</td>\n",
       "      <td>F</td>\n",
       "      <td>F</td>\n",
       "      <td>A</td>\n",
       "      <td>A</td>\n",
       "    </tr>\n",
       "  </tbody>\n",
       "</table>\n",
       "</div>"
      ],
      "text/plain": [
       "   fold                                 p1                                 p2  \\\n",
       "0     1  asian_females/n000009/0010_01.jpg  asian_females/n000009/0043_01.jpg   \n",
       "1     1  asian_females/n000009/0010_01.jpg  asian_females/n000009/0120_01.jpg   \n",
       "2     1  asian_females/n000009/0010_01.jpg  asian_females/n000009/0122_02.jpg   \n",
       "3     1  asian_females/n000009/0010_01.jpg  asian_females/n000009/0188_01.jpg   \n",
       "4     1  asian_females/n000009/0010_01.jpg  asian_females/n000009/0205_01.jpg   \n",
       "\n",
       "   label  id1  id2           att1           att2     vgg16  resnet50  \\\n",
       "0      1    0    0  asian_females  asian_females  0.820039  0.703258   \n",
       "1      1    0    0  asian_females  asian_females  0.719199  0.523613   \n",
       "2      1    0    0  asian_females  asian_females  0.732029  0.527567   \n",
       "3      1    0    0  asian_females  asian_females  0.607093  0.348211   \n",
       "4      1    0    0  asian_females  asian_females  0.629153  0.384273   \n",
       "\n",
       "    senet50  a1  a2 g1 g2 e1 e2  \n",
       "0  0.679089  AF  AF  F  F  A  A  \n",
       "1  0.594268  AF  AF  F  F  A  A  \n",
       "2  0.643680  AF  AF  F  F  A  A  \n",
       "3  0.458883  AF  AF  F  F  A  A  \n",
       "4  0.494913  AF  AF  F  F  A  A  "
      ]
     },
     "execution_count": 6,
     "metadata": {},
     "output_type": "execute_result"
    }
   ],
   "source": [
    "df = pd.read_csv('../../bfw-v0.1.5-datatable.csv')\n",
    "df.head()"
   ]
  },
  {
   "cell_type": "code",
   "execution_count": 20,
   "metadata": {},
   "outputs": [],
   "source": [
    "images = {}\n",
    "for i, row in df.iterrows():\n",
    "    if row['p1'] not in images: images[row['p1']] = {}\n",
    "    images[row['p1']]['race'] = row['e1']\n",
    "    images[row['p1']]['gender'] = row['g1']"
   ]
  },
  {
   "cell_type": "code",
   "execution_count": 70,
   "metadata": {},
   "outputs": [
    {
     "name": "stdout",
     "output_type": "stream",
     "text": [
      "Train Size: 12288 Val Size: 3072 Test Size: 3840\n"
     ]
    }
   ],
   "source": [
    "train, val, test = split_dataset(images.keys())\n",
    "for i in train:\n",
    "    images[i]['split'] = 'train'\n",
    "\n",
    "for i in val:\n",
    "    images[i]['split'] = 'val'\n",
    "    \n",
    "for i in test:\n",
    "    images[i]['split'] = 'test'"
   ]
  },
  {
   "cell_type": "code",
   "execution_count": 74,
   "metadata": {},
   "outputs": [],
   "source": [
    "with open('bfw_annotations.json', 'w') as file:\n",
    "    json.dump(images, file)"
   ]
  },
  {
   "cell_type": "markdown",
   "metadata": {},
   "source": [
    "## RFW"
   ]
  },
  {
   "cell_type": "code",
   "execution_count": null,
   "metadata": {},
   "outputs": [],
   "source": []
  }
 ],
 "metadata": {
  "kernelspec": {
   "display_name": "Python 3",
   "language": "python",
   "name": "python3"
  },
  "language_info": {
   "codemirror_mode": {
    "name": "ipython",
    "version": 3
   },
   "file_extension": ".py",
   "mimetype": "text/x-python",
   "name": "python",
   "nbconvert_exporter": "python",
   "pygments_lexer": "ipython3",
   "version": "3.8.5"
  }
 },
 "nbformat": 4,
 "nbformat_minor": 4
}
